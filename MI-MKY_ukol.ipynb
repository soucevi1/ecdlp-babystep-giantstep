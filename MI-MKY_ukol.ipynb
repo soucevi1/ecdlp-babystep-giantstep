{
 "cells": [
  {
   "cell_type": "markdown",
   "metadata": {},
   "source": [
    "# MI-MKY, implementační úkol\n",
    "## ECDLP v EC nad Z<sub>p</sub> - Babystep-Giantstep\n",
    "\n",
    "## Vít Souček"
   ]
  },
  {
   "cell_type": "markdown",
   "metadata": {},
   "source": [
    "## Tvorba tělesa"
   ]
  },
  {
   "cell_type": "code",
   "execution_count": 1,
   "metadata": {},
   "outputs": [
    {
     "data": {
      "text/plain": [
       "Finite Field of size 7919"
      ]
     },
     "execution_count": 1,
     "metadata": {},
     "output_type": "execute_result"
    }
   ],
   "source": [
    "p = 2**42 + 1597\n",
    "\n",
    "p = 7919\n",
    "Zp = GF(p)\n",
    "Zp"
   ]
  },
  {
   "cell_type": "markdown",
   "metadata": {},
   "source": [
    "## Tvorba křivky"
   ]
  },
  {
   "cell_type": "code",
   "execution_count": 2,
   "metadata": {},
   "outputs": [
    {
     "data": {
      "text/plain": [
       "Elliptic Curve defined by y^2 = x^3 + 1 over Finite Field of size 7919"
      ]
     },
     "execution_count": 2,
     "metadata": {},
     "output_type": "execute_result"
    }
   ],
   "source": [
    "R.<x,y> = GF(p)[]\n",
    "E = EllipticCurve(y^2 - ( x^3 + 1 ))\n",
    "E"
   ]
  },
  {
   "cell_type": "code",
   "execution_count": 9,
   "metadata": {},
   "outputs": [
    {
     "name": "stdout",
     "output_type": "stream",
     "text": [
      "p+q:  (5829 : 4448 : 1)\n",
      "5*p:  (5011 : 109 : 1)\n"
     ]
    },
    {
     "data": {
      "text/plain": [
       "48"
      ]
     },
     "execution_count": 9,
     "metadata": {},
     "output_type": "execute_result"
    }
   ],
   "source": [
    "p = E(6692, 191)\n",
    "q = E(4445,5180)\n",
    "\n",
    "print 'p+q: ', p+q\n",
    "print '5*p: ', 5*p\n",
    "\n",
    "p.order()\n",
    "q.order()"
   ]
  },
  {
   "cell_type": "markdown",
   "metadata": {},
   "source": [
    "## Zadané body\n",
    "Hledá se $a = \\log_P Q$, tzn. takové $a$, že $Q=aP$. Byla zadána dvě různá $Q$."
   ]
  },
  {
   "cell_type": "code",
   "execution_count": 186,
   "metadata": {},
   "outputs": [
    {
     "name": "stdout",
     "output_type": "stream",
     "text": [
      "P =  (3 : 678235393584 : 1)\n",
      "Q =  (1528056769918 : 1937034018107 : 1)\n",
      "Q =  (3107404331497 : 2558860789476 : 1)\n"
     ]
    }
   ],
   "source": [
    "#P = E(3,678235393584)\n",
    "#Q1 = E(1528056769918,1937034018107)\n",
    "#Q2 = E(3107404331497,2558860789476)\n",
    "\n",
    "#print 'P = ', P\n",
    "#print 'Q = ', Q1\n",
    "#print 'Q = ', Q2"
   ]
  },
  {
   "cell_type": "code",
   "execution_count": 10,
   "metadata": {},
   "outputs": [],
   "source": [
    "P = E(6692, 191)\n",
    "Q1 = 496*P\n",
    "Q2 = 1759*P\n",
    "\n",
    "#print 'p+q: ', p+q\n",
    "#print '5*p: ', 5*p\n",
    "\n",
    "#p.order()\n",
    "#q.order()"
   ]
  },
  {
   "cell_type": "markdown",
   "metadata": {},
   "source": [
    "## Babystep-giantstep"
   ]
  },
  {
   "cell_type": "markdown",
   "metadata": {},
   "source": [
    "### Logaritmus Q1"
   ]
  },
  {
   "cell_type": "code",
   "execution_count": 11,
   "metadata": {},
   "outputs": [
    {
     "name": "stdout",
     "output_type": "stream",
     "text": [
      "Generating  45  baby steps... \n",
      "Baby steps generated in 0.0199100971222 seconds.\n",
      "log_P Q1 =  496\n",
      "Duration: 0.00532102584839 seconds.\n"
     ]
    }
   ],
   "source": [
    "import time\n",
    "\n",
    "r = P.order()\n",
    "M = ceil(sqrt(r))\n",
    "\n",
    "print 'Generating ', M , ' baby steps... '\n",
    "start = time.time()\n",
    "baby_steps = [a*P for a in range(M+1)]\n",
    "end = time.time()\n",
    "\n",
    "print 'Baby steps generated in', (end-start), 'seconds.'\n",
    "\n",
    "P2 = M*P\n",
    "\n",
    "\n",
    "def bg_step(Q):\n",
    "    j = 0\n",
    "    i = 0\n",
    "    while True:\n",
    "        x = Q - j*P2  \n",
    "        try:\n",
    "            i = baby_steps.index(x)\n",
    "        except ValueError:\n",
    "            j += 1\n",
    "            continue\n",
    "        result = i + j*M\n",
    "        return result;\n",
    "\n",
    "start = time.time()\n",
    "result1 = bg_step(Q1)\n",
    "end = time.time()\n",
    "print 'log_P Q1 = ', result1\n",
    "print 'Duration:', (end-start), 'seconds.'"
   ]
  },
  {
   "cell_type": "markdown",
   "metadata": {},
   "source": [
    "#### Kontrola"
   ]
  },
  {
   "cell_type": "code",
   "execution_count": 12,
   "metadata": {},
   "outputs": [
    {
     "name": "stdout",
     "output_type": "stream",
     "text": [
      "Correct:  True\n",
      "496 * P =  (3718 : 471 : 1)\n",
      "Q1 = (3718 : 471 : 1)\n"
     ]
    }
   ],
   "source": [
    "print 'Correct: ', result1*P == Q1\n",
    "print result1, '* P = ', result1*P\n",
    "print 'Q1 =', Q1"
   ]
  },
  {
   "cell_type": "markdown",
   "metadata": {},
   "source": [
    "### Logaritmus Q2"
   ]
  },
  {
   "cell_type": "code",
   "execution_count": 13,
   "metadata": {},
   "outputs": [
    {
     "name": "stdout",
     "output_type": "stream",
     "text": [
      "log_P Q2 =  1759\n",
      "Duration: 0.00883889198303 seconds.\n"
     ]
    }
   ],
   "source": [
    "start = time.time()\n",
    "result2 = bg_step(Q2)\n",
    "end = time.time()\n",
    "print 'log_P Q2 = ', result2\n",
    "print 'Duration:', (end-start), 'seconds.'"
   ]
  },
  {
   "cell_type": "markdown",
   "metadata": {},
   "source": [
    "#### Kontrola"
   ]
  },
  {
   "cell_type": "code",
   "execution_count": 14,
   "metadata": {},
   "outputs": [
    {
     "name": "stdout",
     "output_type": "stream",
     "text": [
      "Correct:  True\n",
      "1759 *P =  (3980 : 7132 : 1)\n",
      "Q2 =  (3980 : 7132 : 1)\n"
     ]
    }
   ],
   "source": [
    "print 'Correct: ', result2*P == Q2\n",
    "print result2, '*P = ', result2*P\n",
    "print 'Q2 = ', Q2"
   ]
  },
  {
   "cell_type": "code",
   "execution_count": null,
   "metadata": {},
   "outputs": [],
   "source": []
  }
 ],
 "metadata": {
  "kernelspec": {
   "display_name": "SageMath 8.1",
   "language": "",
   "name": "sagemath"
  },
  "language_info": {
   "codemirror_mode": {
    "name": "ipython",
    "version": 2
   },
   "file_extension": ".py",
   "mimetype": "text/x-python",
   "name": "python",
   "nbconvert_exporter": "python",
   "pygments_lexer": "ipython2",
   "version": "2.7.15rc1"
  }
 },
 "nbformat": 4,
 "nbformat_minor": 2
}
